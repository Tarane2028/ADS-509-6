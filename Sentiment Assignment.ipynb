{
  "cells": [
    {
      "cell_type": "markdown",
      "id": "7f79baf9",
      "metadata": {
        "id": "7f79baf9"
      },
      "source": [
        "# ADS 509 Sentiment Assignment\n",
        "\n",
        "This notebook holds the Sentiment Assignment for Module 6 in ADS 509, Applied Text Mining. Work through this notebook, writing code and answering questions where required.\n",
        "\n",
        "In a previous assignment you put together Twitter data and lyrics data on two artists. In this assignment we apply sentiment analysis to those data sets. If, for some reason, you did not complete that previous assignment, data to use for this assignment can be found in the assignment materials section of Blackboard.\n"
      ]
    },
    {
      "cell_type": "markdown",
      "id": "aae8e2e1",
      "metadata": {
        "id": "aae8e2e1"
      },
      "source": [
        "## General Assignment Instructions\n",
        "\n",
        "These instructions are included in every assignment, to remind you of the coding standards for the class. Feel free to delete this cell after reading it.\n",
        "\n",
        "One sign of mature code is conforming to a style guide. We recommend the [Google Python Style Guide](https://google.github.io/styleguide/pyguide.html). If you use a different style guide, please include a cell with a link.\n",
        "\n",
        "Your code should be relatively easy-to-read, sensibly commented, and clean. Writing code is a messy process, so please be sure to edit your final submission. Remove any cells that are not needed or parts of cells that contain unnecessary code. Remove inessential `import` statements and make sure that all such statements are moved into the designated cell.\n",
        "\n",
        "Make use of non-code cells for written commentary. These cells should be grammatical and clearly written. In some of these cells you will have questions to answer. The questions will be marked by a \"Q:\" and will have a corresponding \"A:\" spot for you. *Make sure to answer every question marked with a `Q:` for full credit.*\n"
      ]
    },
    {
      "cell_type": "code",
      "execution_count": 4,
      "id": "e2d096b7",
      "metadata": {
        "colab": {
          "base_uri": "https://localhost:8080/"
        },
        "id": "e2d096b7",
        "outputId": "4c768c9a-8860-45f4-fc06-ef16f4dec100"
      },
      "outputs": [
        {
          "output_type": "stream",
          "name": "stderr",
          "text": [
            "[nltk_data] Downloading package stopwords to /root/nltk_data...\n",
            "[nltk_data]   Package stopwords is already up-to-date!\n"
          ]
        }
      ],
      "source": [
        "import os\n",
        "import re\n",
        "import emoji\n",
        "import pandas as pd\n",
        "import numpy as np\n",
        "\n",
        "from collections import Counter, defaultdict\n",
        "from string import punctuation\n",
        "import nltk\n",
        "nltk.download('stopwords')\n",
        "from nltk.corpus import stopwords\n",
        "\n",
        "sw = stopwords.words(\"english\")"
      ]
    },
    {
      "cell_type": "code",
      "execution_count": null,
      "id": "6b555ab2",
      "metadata": {
        "id": "6b555ab2"
      },
      "outputs": [],
      "source": [
        "!pip install emoji"
      ]
    },
    {
      "cell_type": "code",
      "execution_count": 5,
      "id": "923b5a86",
      "metadata": {
        "id": "923b5a86"
      },
      "outputs": [],
      "source": [
        "# change `data_location` to the location of the folder on your machine.\n",
        "data_location = \"/content/drive/MyDrive/M1\"\n",
        "\n",
        "# These subfolders should still work if you correctly stored the\n",
        "# data from the Module 1 assignment\n",
        "twitter_folder = \"/content/drive/MyDrive/M1/twitter\"\n",
        "lyrics_folder = \"/content/drive/MyDrive/M1/lyrics\"\n",
        "\n",
        "positive_words_file = \"positive-words.txt\"\n",
        "negative_words_file = \"negative-words.txt\"\n",
        "tidy_text_file = \"tidytext_sentiments.txt\""
      ]
    },
    {
      "cell_type": "markdown",
      "id": "9d3bf93e",
      "metadata": {
        "id": "9d3bf93e"
      },
      "source": [
        "## Data Input\n",
        "\n",
        "Now read in each of the corpora. For the lyrics data, it may be convenient to store the entire contents of the file to make it easier to inspect the titles individually, as you'll do in the last part of the assignment. In the solution, I stored the lyrics data in a dictionary with two dimensions of keys: artist and song. The value was the file contents. A Pandas data frame would work equally well.\n",
        "\n",
        "For the Twitter data, we only need the description field for this assignment. Feel free all the descriptions read it into a data structure. In the solution, I stored the descriptions as a dictionary of lists, with the key being the artist.\n",
        "\n",
        "\n"
      ]
    },
    {
      "cell_type": "code",
      "execution_count": 6,
      "id": "37d70801",
      "metadata": {
        "id": "37d70801"
      },
      "outputs": [],
      "source": [
        "# Read in the lyrics data\n",
        "from collections import defaultdict\n",
        "lyrics = defaultdict(dict)\n",
        "lyrics_path = os.path.join(data_location, lyrics_folder)\n",
        "for artist in os.listdir(lyrics_path):\n",
        "    artist_dir = os.path.join(lyrics_path, artist)\n",
        "    if os.path.isdir(artist_dir):\n",
        "        for fname in os.listdir(artist_dir):\n",
        "            if fname.endswith(\".txt\"):\n",
        "                song = os.path.splitext(fname)[0]\n",
        "                with open(os.path.join(artist_dir, fname), encoding=\"utf-8\") as f:\n",
        "                    lyrics[artist][song] = f.read()"
      ]
    },
    {
      "cell_type": "code",
      "execution_count": 7,
      "id": "debcac5a",
      "metadata": {
        "id": "debcac5a"
      },
      "outputs": [],
      "source": [
        "# Read in the twitter data\n",
        "import json\n",
        "twitter = defaultdict(list)\n",
        "twitter_path = os.path.join(data_location, twitter_folder)\n",
        "for artist in os.listdir(twitter_path):\n",
        "    artist_dir = os.path.join(twitter_path, artist)\n",
        "    if os.path.isdir(artist_dir):\n",
        "        for fname in os.listdir(artist_dir):\n",
        "            if fname.endswith(\".json\"):\n",
        "                with open(os.path.join(artist_dir, fname), encoding=\"utf-8\") as f:\n",
        "                    data = json.load(f)\n",
        "                    # assume each item is a user dict with a \"description\" field\n",
        "                    twitter[artist] += [u.get(\"description\",\"\") for u in data]"
      ]
    },
    {
      "cell_type": "code",
      "execution_count": 8,
      "id": "af9e7a4b",
      "metadata": {
        "id": "af9e7a4b"
      },
      "outputs": [],
      "source": [
        "# Read in the positive and negative words and the\n",
        "# tidytext sentiment.\n",
        "pos = set()\n",
        "with open(os.path.join(data_location, positive_words_file), encoding=\"latin-1\") as f:\n",
        "    for line in f:\n",
        "        line = line.strip()\n",
        "        if line and not line.startswith(\";\"):\n",
        "            pos.add(line)\n",
        "neg = set()\n",
        "with open(os.path.join(data_location, negative_words_file), encoding=\"latin-1\") as f:\n",
        "    for line in f:\n",
        "        line = line.strip()\n",
        "        if line and not line.startswith(\";\"):\n",
        "            neg.add(line)\n",
        "tidy = pd.read_csv(os.path.join(data_location, tidy_text_file), sep=\"\\t\", names=[\"word\",\"sentiment\"])\n",
        "# build a combined lexicon\n",
        "lexicon = {}\n",
        "for w in pos:\n",
        "    lexicon[w] = 1\n",
        "for w in neg:\n",
        "    lexicon[w] = -1\n",
        "for _, row in tidy.iterrows():\n",
        "    lexicon[row.word] = 1 if row.sentiment == \"positive\" else -1"
      ]
    },
    {
      "cell_type": "markdown",
      "id": "6a5f3b12",
      "metadata": {
        "id": "6a5f3b12"
      },
      "source": [
        "## Sentiment Analysis on Songs\n",
        "\n",
        "In this section, score the sentiment for all the songs for both artists in your data set. Score the sentiment by manually calculating the sentiment using the combined lexicons provided in this repository.\n",
        "\n",
        "After you have calculated these sentiments, answer the questions at the end of this section.\n"
      ]
    },
    {
      "cell_type": "code",
      "execution_count": 13,
      "id": "664f8d8f",
      "metadata": {
        "colab": {
          "base_uri": "https://localhost:8080/"
        },
        "id": "664f8d8f",
        "outputId": "8da5c5f0-98e0-452a-f1be-fc4a41cdf427"
      },
      "outputs": [
        {
          "output_type": "stream",
          "name": "stdout",
          "text": [
            "robyn: 104 songs\n",
            "  min: -77\n",
            "  max: 102\n",
            "  mean: 2.701923076923077\n",
            "cher: 316 songs\n",
            "  min: -25\n",
            "  max: 48\n",
            "  mean: 3.9367088607594938\n",
            "Lowest 3:\n",
            "robyn_dontfuckingtellmewhattodo (-77)\n",
            " \"Don't Fucking Tell Me What To Do\"\n",
            "\n",
            "\n",
            "\n",
            "My drinking is killing me\n",
            "My drinking is killing me\n",
            "My drinking is killing me\n",
            "My drinking is killing me\n",
            "My drinking is killing me\n",
            "My drinking is killing me\n",
            "My dri ...\n",
            "\n",
            "robyn_dontfuckingtellmewhattodo114520 (-77)\n",
            " \"Don't Fucking Tell Me What To Do\"\n",
            "\n",
            "\n",
            "\n",
            "My drinking is killing me\n",
            "My drinking is killing me\n",
            "My drinking is killing me\n",
            "My drinking is killing me\n",
            "My drinking is killing me\n",
            "My drinking is killing me\n",
            "My dri ...\n",
            "\n",
            "robyn_criminalintent (-53)\n",
            " \"Criminal Intent\"\n",
            "\n",
            "\n",
            "\n",
            "Somebody alert the authorities, I got criminal intent\n",
            "Conspiracy to engage in lewd and indecent acts and events\n",
            "I'mma wind it, grind it, oh my, I'mma say it again\n",
            "Somebody alert t ...\n",
            "\n",
            "Highest 3:\n",
            "robyn_ushouldknowbetter (26)\n",
            " \"U Should Know Better\"\n",
            "\n",
            "\n",
            "\n",
            "I've gone around the world and the seven seas\n",
            "I'm cashin' six-figure checks in all currencies\n",
            "It's like when I be tearin' it up in Paris\n",
            "Motherfuckers parler on the m-i-c\n",
            "It' ...\n",
            "\n",
            "robyn_ushouldknowbetter114529 (26)\n",
            " \"U Should Know Better\"\n",
            "\n",
            "\n",
            "\n",
            "I've gone around the world and the seven seas\n",
            "I'm cashin' six-figure checks in all currencies\n",
            "It's like when I be tearin' it up in Paris\n",
            "Motherfuckers parler on the m-i-c\n",
            "It' ...\n",
            "\n",
            "robyn_loveisfree (102)\n",
            " \"Love Is Free\"\n",
            "\n",
            "\n",
            "\n",
            "Free\n",
            "Love is free, baby\n",
            "Free\n",
            "Love is free, baby\n",
            "Boom boom boom boom boom chica boom\n",
            "Let me give it to you, baby\n",
            "Chica boom chica boom chica boom\n",
            "Chica boom chica boom chica boom\n",
            "Free ...\n",
            "\n",
            "Lowest 3:\n",
            "cher_iwalkonguildedsplinters (-25)\n",
            " \"I Walk On Guilded Splinters\"\n",
            "\n",
            "\n",
            "\n",
            "Some people think they jive me, but I know they must be crazy\n",
            "They can't see their misfortune, or else they're just too lazy\n",
            "Je suie le grand zombie\n",
            "With my yellow cha ...\n",
            "\n",
            "cher_outrageous (-24)\n",
            " \"Outrageous\"\n",
            "\n",
            "\n",
            "\n",
            "Outrageous, outrageous\n",
            "(They say) I'm outrageous\n",
            "It's the rage\n",
            "\n",
            "I'm gonna wear what I will and spend some\n",
            "And I will be dress to kill don'tcha know\n",
            "And when the lights come up\n",
            "I'm read ...\n",
            "\n",
            "cher_dressedtokill (-17)\n",
            " \"Dressed To Kill\"\n",
            "\n",
            "\n",
            "\n",
            "I slip into my shoes and slide into the night\n",
            "I'm on the loose you're in my sights\n",
            "You know it's gonna hurt you but it's just no use\n",
            "You fall in love they always do\n",
            "And I'm waitin ...\n",
            "\n",
            "Highest 3:\n",
            "cher_loveandunderstanding (44)\n",
            " \"Love And Understanding\"\n",
            "\n",
            "\n",
            "\n",
            "Here, here in this world\n",
            "Where do we go? Where can we turn?\n",
            "When we need some love\n",
            "It seems that love just can't be found\n",
            "Where, where do we stand?\n",
            "When love's supply don't ...\n",
            "\n",
            "cher_mylove (47)\n",
            " \"My Love\"\n",
            "\n",
            "\n",
            "\n",
            "When I go away\n",
            "I know my heart can stay with my love\n",
            "It's understood\n",
            "Everywhere with my love\n",
            "My love does it good, whoa\n",
            "My love, oh only my love\n",
            "My love does it good\n",
            "\n",
            "And when the cupboar ...\n",
            "\n",
            "cher_perfection (48)\n",
            " \"Perfection\"\n",
            "\n",
            "\n",
            "\n",
            "Hush little Baby, gotta be strong\n",
            "'Cause in this world we are born to fight\n",
            "Be the best, prove them wrong\n",
            "A winner's work is never done, reach the top, number one\n",
            "\n",
            "Oh, perfection\n",
            "You d ...\n",
            "\n"
          ]
        }
      ],
      "source": [
        "def score_text(text):\n",
        "    words = re.findall(r\"\\b\\w+\\b\", text.lower())\n",
        "    return sum(lexicon.get(w,0) for w in words)\n",
        "\n",
        "# compute per‐song scores\n",
        "song_scores = {}\n",
        "for artist, songs in lyrics.items():\n",
        "    song_scores[artist] = {song: score_text(text) for song, text in songs.items()}\n",
        "    print(f\"{artist}: {len(songs)} songs\")\n",
        "    print(f\"  min: {min(song_scores[artist].values())}\")\n",
        "    print(f\"  max: {max(song_scores[artist].values())}\")\n",
        "    print(f\"  mean: {np.mean(list(song_scores[artist].values()))}\")\n",
        "\n",
        "    artist1 = 'robyn'\n",
        "sorted1 = sorted(song_scores[artist1].items(), key=lambda x: x[1])\n",
        "print(\"Lowest 3:\")\n",
        "for s, sc in sorted1[:3]:\n",
        "    print(f\"{s} ({sc})\\n\", lyrics[artist1][s][:200], \"...\\n\")\n",
        "print(\"Highest 3:\")\n",
        "for s, sc in sorted1[-3:]:\n",
        "    print(f\"{s} ({sc})\\n\", lyrics[artist1][s][:200], \"...\\n\")\n",
        "\n",
        "    artist2 = 'cher'\n",
        "sorted2 = sorted(song_scores[artist2].items(), key=lambda x: x[1])\n",
        "print(\"Lowest 3:\")\n",
        "for s, sc in sorted2[:3]:\n",
        "    print(f\"{s} ({sc})\\n\", lyrics[artist2][s][:200], \"...\\n\")\n",
        "print(\"Highest 3:\")\n",
        "for s, sc in sorted2[-3:]:\n",
        "    print(f\"{s} ({sc})\\n\", lyrics[artist2][s][:200], \"...\\n\")"
      ]
    },
    {
      "cell_type": "code",
      "source": [
        "from google.colab import drive\n",
        "drive.mount('/content/drive')"
      ],
      "metadata": {
        "colab": {
          "base_uri": "https://localhost:8080/"
        },
        "id": "hCZmCn4tRhI_",
        "outputId": "214f73f6-4f6d-45cd-e1f5-f0640e411f6c"
      },
      "id": "hCZmCn4tRhI_",
      "execution_count": 1,
      "outputs": [
        {
          "output_type": "stream",
          "name": "stdout",
          "text": [
            "Mounted at /content/drive\n"
          ]
        }
      ]
    },
    {
      "cell_type": "markdown",
      "id": "1f8334f4",
      "metadata": {
        "id": "1f8334f4"
      },
      "source": [
        "### Questions\n",
        "\n",
        "Q: Overall, which artist has the higher average sentiment per song?\n",
        "\n",
        "A: Cher has the higher average sentiment per song (mean ≈ 3.94 for Cher vs. ≈ 2.70 for Robyn).\n",
        "\n",
        "---\n",
        "\n",
        "Q: For your first artist, what are the three songs that have the highest and lowest sentiments? Print the lyrics of those songs to the screen. What do you think is driving the sentiment score?\n",
        "\n",
        "A: - **Lowest 3:**  \n",
        "  1. `robyn_dontfuckingtellmewhattodo` (–77) – “Don’t Fucking Tell Me What To Do” repeatedly uses “My drinking is killing me”  \n",
        "  2. `robyn_dontfuckingtellmewhattodo114520` (–77) – same lyrics repeated  \n",
        "  3. `robyn_criminalintent` (–53) – “ criminal intent,” “authorities,” “lewd” drive strong negatives  \n",
        "- **Highest 3:**  \n",
        "  1. `robyn_loveisfree` (102) – “Free,” “Love is free” repeats hit the positive lexicon hard  \n",
        "  2. `robyn_ushouldknowbetter` (26) – celebratory wealth imagery (“six-figure checks,” world travel)  \n",
        "  3. `robyn_ushouldknowbetter114529` (26) – duplicate file  \n",
        "- **Driving factors:** The lowest-scoring songs feature highly repetitive negative terms (“killing,” “criminal,” “indecent,” “authorities”), while the highest-scoring ones flood the text with positive words (“free,” “love”) and upbeat, aspirational images.\n",
        "\n",
        "\n",
        "---\n",
        "\n",
        "Q: For your second artist, what are the three songs that have the highest and lowest sentiments? Print the lyrics of those songs to the screen. What do you think is driving the sentiment score?\n",
        "\n",
        "A: - **Lowest 3:**  \n",
        "  1. `cher_iwalkonguildedsplinters` (–25) – ominous, misfortune imagery (“must be crazy,” “misfortune,” zombie references)  \n",
        "  2. `cher_outrageous` (–24) – defiant but uses “outrageous” in a charged context  \n",
        "  3. `cher_dressedtokill` (–17) – aggressive tone (“hurt you,” “on the loose”)  \n",
        "- **Highest 3:**  \n",
        "  1. `cher_perfection` (48) – uplifting (“winner’s work,” “reach the top,” “perfection”)  \n",
        "  2. `cher_mylove` (47) – warm, affectionate language (“my love does it good”)  \n",
        "  3. `cher_loveandunderstanding` (44) – calls for love and unity (“when we need some love…”)  \n",
        "- **Driving factors:** The lowest-scoring tracks contain darker, violent or supernatural imagery, while the highest-scoring ones emphasize love, empowerment, and positive affirmations.\n",
        "\n",
        "---\n",
        "\n",
        "Q: Plot the distributions of the sentiment scores for both artists. You can use `seaborn` to plot densities or plot histograms in matplotlib.\n",
        "\n",
        "\n"
      ]
    },
    {
      "cell_type": "code",
      "source": [
        "import seaborn as sns\n",
        "import matplotlib.pyplot as plt\n",
        "\n",
        "scores_robyn = list(song_scores['robyn'].values())\n",
        "scores_cher  = list(song_scores['cher'].values())\n",
        "\n",
        "sns.kdeplot(scores_robyn, label='Robyn')\n",
        "sns.kdeplot(scores_cher,  label='Cher')\n",
        "plt.legend()\n",
        "plt.title(\"Sentiment Distribution per Song\")\n",
        "plt.xlabel(\"Raw Sentiment Score\")\n",
        "plt.show()"
      ],
      "metadata": {
        "colab": {
          "base_uri": "https://localhost:8080/",
          "height": 472
        },
        "id": "h2N8-M-kWRxw",
        "outputId": "54ff987c-20ba-4bca-db4e-eb17dd7fb90f"
      },
      "id": "h2N8-M-kWRxw",
      "execution_count": 14,
      "outputs": [
        {
          "output_type": "display_data",
          "data": {
            "text/plain": [
              "<Figure size 640x480 with 1 Axes>"
            ],
            "image/png": "[encoded data removed]"
          },
          "metadata": {}
        }
      ]
    },
    {
      "cell_type": "markdown",
      "source": [
        "The kernel-density curves show that both Robyn and Cher have song-level sentiment scores clustered in the positive range, but with some key differences:\n",
        "\n",
        "Cher’s curve (orange) is noticeably taller and narrower, peaking sharply around a sentiment score of 3–5. This indicates that most of Cher’s songs have moderately positive sentiment with less variance—few extreme highs or lows.\n",
        "\n",
        "Robyn’s curve (blue) is broader and shorter, with a wider spread from around –80 up to +100. It still peaks in the positive zone (around 2–3), but the heavier tails, especially on the negative side, reflect that Robyn’s catalog contains more songs with strongly negative themes (e.g. “Don’t Fucking Tell Me What To Do” at –77) alongside some very upbeat tracks (e.g. “Love Is Free” at +102)."
      ],
      "metadata": {
        "id": "uiSrhztDWyw8"
      },
      "id": "uiSrhztDWyw8"
    },
    {
      "cell_type": "markdown",
      "id": "b3fe644d",
      "metadata": {
        "id": "b3fe644d"
      },
      "source": [
        "## Sentiment Analysis on Twitter Descriptions\n",
        "\n",
        "In this section, define two sets of emojis you designate as positive and negative. Make sure to have at least 10 emojis per set. You can learn about the most popular emojis on Twitter at [the emojitracker](https://emojitracker.com/).\n",
        "\n",
        "Associate your positive emojis with a score of +1, negative with -1. Score the average sentiment of your two artists based on the Twitter descriptions of their followers. The average sentiment can just be the total score divided by number of followers. You do not need to calculate sentiment on non-emoji content for this section."
      ]
    },
    {
      "cell_type": "code",
      "execution_count": 34,
      "id": "1a5c1d25",
      "metadata": {
        "colab": {
          "base_uri": "https://localhost:8080/"
        },
        "id": "1a5c1d25",
        "outputId": "285c4919-f33a-453e-a3be-3f4e5666e8b6"
      },
      "outputs": [
        {
          "output_type": "stream",
          "name": "stdout",
          "text": [
            "--- robynkonichiwa_followers.txt ---\n",
            "id\n",
            "1424055675030806529\n",
            "1502717352575651840\n",
            "1502407708246478852\n",
            "3423966821\n"
          ]
        }
      ],
      "source": [
        "pos_emojis = {\"😀\",\"😂\",\"😊\",\"😍\",\"👍\",\"🙏\",\"🥰\",\"😎\",\"😁\",\"❤️\"}\n",
        "neg_emojis = {\"😢\",\"😞\",\"😠\",\"😡\",\"👎\",\"😭\",\"😩\",\"😤\",\"☹️\",\"😧\"}\n",
        "from collections import Counter\n",
        "import numpy as np\n",
        "import os\n",
        "\n",
        "twitter_path = os.path.join(data_location, twitter_folder)\n",
        "for fname in os.listdir(twitter_path):\n",
        "    if fname.endswith('.txt'):\n",
        "        print(f\"--- {fname} ---\")\n",
        "        with open(os.path.join(twitter_path, fname), encoding='utf-8') as f:\n",
        "            for _ in range(5):\n",
        "                print(f.readline().strip())\n",
        "        break"
      ]
    },
    {
      "cell_type": "code",
      "source": [
        "import json\n",
        "from collections import defaultdict\n",
        "\n",
        "twitter = defaultdict(list)\n",
        "twitter_path = os.path.join(data_location, twitter_folder)\n",
        "\n",
        "for fname in os.listdir(twitter_path):\n",
        "    if not fname.endswith('.txt'):\n",
        "        continue\n",
        "    # assign key by filename\n",
        "    artist = 'robyn' if 'robyn' in fname.lower() else 'cher'\n",
        "    with open(os.path.join(twitter_path, fname), encoding='utf-8') as f:\n",
        "        for line in f:\n",
        "            bio = line.strip()\n",
        "            if bio:\n",
        "                twitter[artist].append(bio)\n",
        "\n",
        "# 2) Quick sanity check\n",
        "print({artist: len(descs) for artist, descs in twitter.items()})"
      ],
      "metadata": {
        "colab": {
          "base_uri": "https://localhost:8080/"
        },
        "id": "dY-1RCUFdbwK",
        "outputId": "9b04ce5e-eee0-474a-8ddc-7904dce449cd"
      },
      "id": "dY-1RCUFdbwK",
      "execution_count": 36,
      "outputs": [
        {
          "output_type": "stream",
          "name": "stdout",
          "text": [
            "{'robyn': 716835, 'cher': 7990040}\n"
          ]
        }
      ]
    },
    {
      "cell_type": "code",
      "source": [
        "import numpy as np\n",
        "from collections import Counter\n",
        "\n",
        "# scoring function\n",
        "def score_emojis(text):\n",
        "    return sum(1 for c in text if c in pos_emojis) - sum(1 for c in text if c in neg_emojis)\n",
        "\n",
        "twitter_scores = {}\n",
        "emoji_counts    = {}\n",
        "\n",
        "for artist, descs in twitter.items():\n",
        "    scores = [score_emojis(d) for d in descs]\n",
        "    twitter_scores[artist] = np.mean(scores) if scores else 0\n",
        "    emoji_counts[artist]    = Counter(c for d in descs for c in d if c in pos_emojis or c in neg_emojis)\n",
        "\n",
        "# 3) Print results\n",
        "for artist, avg in twitter_scores.items():\n",
        "    print(f\"{artist} average sentiment: {avg:.3f}\")\n",
        "print()\n",
        "for artist, counts in emoji_counts.items():\n",
        "    pos_counts = {e: counts.get(e, 0) for e in pos_emojis}\n",
        "    neg_counts = {e: counts.get(e, 0) for e in neg_emojis}\n",
        "    most_pos = max(pos_counts, key=pos_counts.get)\n",
        "    most_neg = max(neg_counts, key=neg_counts.get)\n",
        "    print(f\"{artist} most popular positive emoji: {most_pos} ({pos_counts[most_pos]})\")\n",
        "    print(f\"{artist} most popular negative emoji: {most_neg} ({neg_counts[most_neg]})\")"
      ],
      "metadata": {
        "colab": {
          "base_uri": "https://localhost:8080/"
        },
        "id": "NIa9tr1xd7_c",
        "outputId": "e5d462b3-d7b3-4354-e6c1-04d6d8b8668d"
      },
      "id": "NIa9tr1xd7_c",
      "execution_count": 37,
      "outputs": [
        {
          "output_type": "stream",
          "name": "stdout",
          "text": [
            "robyn average sentiment: 0.002\n",
            "cher average sentiment: 0.005\n",
            "\n",
            "robyn most popular positive emoji: 😎 (325)\n",
            "robyn most popular negative emoji: 😭 (42)\n",
            "cher most popular positive emoji: 😍 (8955)\n",
            "cher most popular negative emoji: 😭 (823)\n"
          ]
        }
      ]
    },
    {
      "cell_type": "markdown",
      "id": "fb92eb93",
      "metadata": {
        "id": "fb92eb93"
      },
      "source": [
        "Q: What is the average sentiment of your two artists?\n",
        "\n",
        "A: Robyn’s average sentiment = 0.002; Cher’s average sentiment = 0.005.\n",
        "\n",
        "---\n",
        "\n",
        "Q: Which positive emoji is the most popular for each artist? Which negative emoji?\n",
        "\n",
        "A:\n",
        "- **Robyn**: most popular positive emoji = 😎 (325); most popular negative emoji = 😭 (42)  \n",
        "- **Cher**: most popular positive emoji = 😍 (8955); most popular negative emoji = 😭 (823)  \n",
        "\n"
      ]
    }
  ],
  "metadata": {
    "kernelspec": {
      "display_name": "Python 3 (ipykernel)",
      "language": "python",
      "name": "python3"
    },
    "language_info": {
      "codemirror_mode": {
        "name": "ipython",
        "version": 3
      },
      "file_extension": ".py",
      "mimetype": "text/x-python",
      "name": "python",
      "nbconvert_exporter": "python",
      "pygments_lexer": "ipython3",
      "version": "3.9.16"
    },
    "colab": {
      "provenance": []
    }
  },
  "nbformat": 4,
  "nbformat_minor": 5
}